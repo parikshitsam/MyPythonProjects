{
 "cells": [
  {
   "cell_type": "markdown",
   "metadata": {},
   "source": [
    "# Lets consider the following data"
   ]
  },
  {
   "cell_type": "code",
   "execution_count": 1,
   "metadata": {},
   "outputs": [
    {
     "name": "stdout",
     "output_type": "stream",
     "text": [
      "         Y     X       lnY       lnX\n",
      "Year                                \n",
      "1970  2.57  0.77  0.943906 -0.261365\n",
      "1971  2.50  0.74  0.916291 -0.301105\n",
      "1972  2.35  0.72  0.854415 -0.328504\n",
      "1973  2.30  0.73  0.832909 -0.314711\n",
      "1974  2.25  0.76  0.810930 -0.274437\n",
      "1975  2.20  0.75  0.788457 -0.287682\n",
      "1976  2.11  1.08  0.746688  0.076961\n",
      "1977  1.94  1.81  0.662688  0.593327\n",
      "1978  1.97  1.39  0.678034  0.329304\n",
      "1979  2.06  1.20  0.722706  0.182322\n",
      "1980  2.02  1.17  0.703098  0.157004\n"
     ]
    }
   ],
   "source": [
    "import matplotlib.pyplot as plt\n",
    "import numpy as np\n",
    "import pandas as pd\n",
    "import seaborn as sns\n",
    "import statsmodels.api as sm\n",
    "\n",
    "df = pd.read_csv('7_2.txt', sep = ' ', header=0, index_col=0)\n",
    "\n",
    "df[\"lnY\"] = np.log(df[\"Y\"])\n",
    "df[\"lnX\"] = np.log(df['X'])\n",
    "\n",
    "\n",
    "y = df[\"Y\"]\n",
    "X = df[\"X\"]\n",
    "X = sm.add_constant(X)\n",
    "\n",
    "model1 = sm.OLS(y,X).fit()\n",
    "\n",
    "lny = df['lnY']\n",
    "lnX = df['lnX']\n",
    "lnX = sm.add_constant(lnX)\n",
    "model2 = sm.OLS(lny,lnX).fit()"
   ]
  },
  {
   "cell_type": "markdown",
   "metadata": {},
   "source": [
    "# Computing OLS"
   ]
  },
  {
   "cell_type": "code",
   "execution_count": 2,
   "metadata": {},
   "outputs": [
    {
     "name": "stdout",
     "output_type": "stream",
     "text": [
      "                            OLS Regression Results                            \n",
      "==============================================================================\n",
      "Dep. Variable:                      Y   R-squared:                       0.663\n",
      "Model:                            OLS   Adj. R-squared:                  0.625\n",
      "Method:                 Least Squares   F-statistic:                     17.69\n",
      "Date:                Wed, 01 Jul 2020   Prob (F-statistic):            0.00229\n",
      "Time:                        17:57:26   Log-Likelihood:                 8.0481\n",
      "No. Observations:                  11   AIC:                            -12.10\n",
      "Df Residuals:                       9   BIC:                            -11.30\n",
      "Df Model:                           1                                         \n",
      "Covariance Type:            nonrobust                                         \n",
      "==============================================================================\n",
      "                 coef    std err          t      P>|t|      [0.025      0.975]\n",
      "------------------------------------------------------------------------------\n",
      "const          2.6911      0.122     22.127      0.000       2.416       2.966\n",
      "X             -0.4795      0.114     -4.206      0.002      -0.737      -0.222\n",
      "==============================================================================\n",
      "Omnibus:                        2.944   Durbin-Watson:                   0.727\n",
      "Prob(Omnibus):                  0.229   Jarque-Bera (JB):                1.747\n",
      "Skew:                           0.953   Prob(JB):                        0.418\n",
      "Kurtosis:                       2.580   Cond. No.                         6.12\n",
      "==============================================================================\n",
      "\n",
      "Warnings:\n",
      "[1] Standard Errors assume that the covariance matrix of the errors is correctly specified.\n",
      "                            OLS Regression Results                            \n",
      "==============================================================================\n",
      "Dep. Variable:                    lnY   R-squared:                       0.745\n",
      "Model:                            OLS   Adj. R-squared:                  0.716\n",
      "Method:                 Least Squares   F-statistic:                     26.27\n",
      "Date:                Wed, 01 Jul 2020   Prob (F-statistic):           0.000624\n",
      "Time:                        17:57:26   Log-Likelihood:                 18.416\n",
      "No. Observations:                  11   AIC:                            -32.83\n",
      "Df Residuals:                       9   BIC:                            -32.04\n",
      "Df Model:                           1                                         \n",
      "Covariance Type:            nonrobust                                         \n",
      "==============================================================================\n",
      "                 coef    std err          t      P>|t|      [0.025      0.975]\n",
      "------------------------------------------------------------------------------\n",
      "const          0.7774      0.015     51.005      0.000       0.743       0.812\n",
      "lnX           -0.2530      0.049     -5.125      0.001      -0.365      -0.141\n",
      "==============================================================================\n",
      "Omnibus:                        3.284   Durbin-Watson:                   0.680\n",
      "Prob(Omnibus):                  0.194   Jarque-Bera (JB):                1.597\n",
      "Skew:                           0.933   Prob(JB):                        0.450\n",
      "Kurtosis:                       2.931   Cond. No.                         3.27\n",
      "==============================================================================\n",
      "\n",
      "Warnings:\n",
      "[1] Standard Errors assume that the covariance matrix of the errors is correctly specified.\n"
     ]
    },
    {
     "name": "stderr",
     "output_type": "stream",
     "text": [
      "c:\\users\\samantpradeep\\appdata\\local\\programs\\python\\python38-32\\lib\\site-packages\\scipy\\stats\\stats.py:1534: UserWarning: kurtosistest only valid for n>=20 ... continuing anyway, n=11\n",
      "  warnings.warn(\"kurtosistest only valid for n>=20 ... continuing \"\n"
     ]
    }
   ],
   "source": [
    "print(model1.summary())\n",
    "print(model2.summary())"
   ]
  },
  {
   "cell_type": "markdown",
   "metadata": {},
   "source": [
    "# Since we can't directly compare R squared we convert Ye to lnYe"
   ]
  },
  {
   "cell_type": "code",
   "execution_count": 4,
   "metadata": {},
   "outputs": [
    {
     "data": {
      "text/html": [
       "<div>\n",
       "<style scoped>\n",
       "    .dataframe tbody tr th:only-of-type {\n",
       "        vertical-align: middle;\n",
       "    }\n",
       "\n",
       "    .dataframe tbody tr th {\n",
       "        vertical-align: top;\n",
       "    }\n",
       "\n",
       "    .dataframe thead th {\n",
       "        text-align: right;\n",
       "    }\n",
       "</style>\n",
       "<table border=\"1\" class=\"dataframe\">\n",
       "  <thead>\n",
       "    <tr style=\"text-align: right;\">\n",
       "      <th></th>\n",
       "      <th>0</th>\n",
       "      <th>1</th>\n",
       "    </tr>\n",
       "  </thead>\n",
       "  <tbody>\n",
       "    <tr>\n",
       "      <th>const</th>\n",
       "      <td>0.742938</td>\n",
       "      <td>0.811898</td>\n",
       "    </tr>\n",
       "    <tr>\n",
       "      <th>lnX</th>\n",
       "      <td>-0.364738</td>\n",
       "      <td>-0.141354</td>\n",
       "    </tr>\n",
       "  </tbody>\n",
       "</table>\n",
       "</div>"
      ],
      "text/plain": [
       "              0         1\n",
       "const  0.742938  0.811898\n",
       "lnX   -0.364738 -0.141354"
      ]
     },
     "execution_count": 4,
     "metadata": {},
     "output_type": "execute_result"
    }
   ],
   "source": [
    "model2.conf_int()"
   ]
  },
  {
   "cell_type": "code",
   "execution_count": 17,
   "metadata": {},
   "outputs": [],
   "source": [
    "const = model1.params[\"const\"]\n",
    "xcoef = model1.params['X']"
   ]
  },
  {
   "cell_type": "code",
   "execution_count": 20,
   "metadata": {},
   "outputs": [
    {
     "data": {
      "text/html": [
       "<div>\n",
       "<style scoped>\n",
       "    .dataframe tbody tr th:only-of-type {\n",
       "        vertical-align: middle;\n",
       "    }\n",
       "\n",
       "    .dataframe tbody tr th {\n",
       "        vertical-align: top;\n",
       "    }\n",
       "\n",
       "    .dataframe thead th {\n",
       "        text-align: right;\n",
       "    }\n",
       "</style>\n",
       "<table border=\"1\" class=\"dataframe\">\n",
       "  <thead>\n",
       "    <tr style=\"text-align: right;\">\n",
       "      <th></th>\n",
       "      <th>Y</th>\n",
       "      <th>X</th>\n",
       "      <th>lnY</th>\n",
       "      <th>lnX</th>\n",
       "      <th>Ye</th>\n",
       "      <th>lnYe</th>\n",
       "    </tr>\n",
       "    <tr>\n",
       "      <th>Year</th>\n",
       "      <th></th>\n",
       "      <th></th>\n",
       "      <th></th>\n",
       "      <th></th>\n",
       "      <th></th>\n",
       "      <th></th>\n",
       "    </tr>\n",
       "  </thead>\n",
       "  <tbody>\n",
       "    <tr>\n",
       "      <th>1970</th>\n",
       "      <td>2.57</td>\n",
       "      <td>0.77</td>\n",
       "      <td>0.943906</td>\n",
       "      <td>-0.261365</td>\n",
       "      <td>2.321887</td>\n",
       "      <td>0.842380</td>\n",
       "    </tr>\n",
       "    <tr>\n",
       "      <th>1971</th>\n",
       "      <td>2.50</td>\n",
       "      <td>0.74</td>\n",
       "      <td>0.916291</td>\n",
       "      <td>-0.301105</td>\n",
       "      <td>2.336272</td>\n",
       "      <td>0.848557</td>\n",
       "    </tr>\n",
       "    <tr>\n",
       "      <th>1972</th>\n",
       "      <td>2.35</td>\n",
       "      <td>0.72</td>\n",
       "      <td>0.854415</td>\n",
       "      <td>-0.328504</td>\n",
       "      <td>2.345863</td>\n",
       "      <td>0.852653</td>\n",
       "    </tr>\n",
       "    <tr>\n",
       "      <th>1973</th>\n",
       "      <td>2.30</td>\n",
       "      <td>0.73</td>\n",
       "      <td>0.832909</td>\n",
       "      <td>-0.314711</td>\n",
       "      <td>2.341068</td>\n",
       "      <td>0.850607</td>\n",
       "    </tr>\n",
       "    <tr>\n",
       "      <th>1974</th>\n",
       "      <td>2.25</td>\n",
       "      <td>0.76</td>\n",
       "      <td>0.810930</td>\n",
       "      <td>-0.274437</td>\n",
       "      <td>2.326682</td>\n",
       "      <td>0.844443</td>\n",
       "    </tr>\n",
       "    <tr>\n",
       "      <th>1975</th>\n",
       "      <td>2.20</td>\n",
       "      <td>0.75</td>\n",
       "      <td>0.788457</td>\n",
       "      <td>-0.287682</td>\n",
       "      <td>2.331477</td>\n",
       "      <td>0.846502</td>\n",
       "    </tr>\n",
       "    <tr>\n",
       "      <th>1976</th>\n",
       "      <td>2.11</td>\n",
       "      <td>1.08</td>\n",
       "      <td>0.746688</td>\n",
       "      <td>0.076961</td>\n",
       "      <td>2.173233</td>\n",
       "      <td>0.776216</td>\n",
       "    </tr>\n",
       "    <tr>\n",
       "      <th>1977</th>\n",
       "      <td>1.94</td>\n",
       "      <td>1.81</td>\n",
       "      <td>0.662688</td>\n",
       "      <td>0.593327</td>\n",
       "      <td>1.823176</td>\n",
       "      <td>0.600580</td>\n",
       "    </tr>\n",
       "    <tr>\n",
       "      <th>1978</th>\n",
       "      <td>1.97</td>\n",
       "      <td>1.39</td>\n",
       "      <td>0.678034</td>\n",
       "      <td>0.329304</td>\n",
       "      <td>2.024579</td>\n",
       "      <td>0.705362</td>\n",
       "    </tr>\n",
       "    <tr>\n",
       "      <th>1979</th>\n",
       "      <td>2.06</td>\n",
       "      <td>1.20</td>\n",
       "      <td>0.722706</td>\n",
       "      <td>0.182322</td>\n",
       "      <td>2.115689</td>\n",
       "      <td>0.749381</td>\n",
       "    </tr>\n",
       "    <tr>\n",
       "      <th>1980</th>\n",
       "      <td>2.02</td>\n",
       "      <td>1.17</td>\n",
       "      <td>0.703098</td>\n",
       "      <td>0.157004</td>\n",
       "      <td>2.130075</td>\n",
       "      <td>0.756157</td>\n",
       "    </tr>\n",
       "  </tbody>\n",
       "</table>\n",
       "</div>"
      ],
      "text/plain": [
       "         Y     X       lnY       lnX        Ye      lnYe\n",
       "Year                                                    \n",
       "1970  2.57  0.77  0.943906 -0.261365  2.321887  0.842380\n",
       "1971  2.50  0.74  0.916291 -0.301105  2.336272  0.848557\n",
       "1972  2.35  0.72  0.854415 -0.328504  2.345863  0.852653\n",
       "1973  2.30  0.73  0.832909 -0.314711  2.341068  0.850607\n",
       "1974  2.25  0.76  0.810930 -0.274437  2.326682  0.844443\n",
       "1975  2.20  0.75  0.788457 -0.287682  2.331477  0.846502\n",
       "1976  2.11  1.08  0.746688  0.076961  2.173233  0.776216\n",
       "1977  1.94  1.81  0.662688  0.593327  1.823176  0.600580\n",
       "1978  1.97  1.39  0.678034  0.329304  2.024579  0.705362\n",
       "1979  2.06  1.20  0.722706  0.182322  2.115689  0.749381\n",
       "1980  2.02  1.17  0.703098  0.157004  2.130075  0.756157"
      ]
     },
     "execution_count": 20,
     "metadata": {},
     "output_type": "execute_result"
    }
   ],
   "source": [
    "Ye = const + xcoef*df['X']\n",
    "df['Ye'] = Ye\n",
    "df['lnYe'] = np.log(Ye)\n",
    "df"
   ]
  },
  {
   "cell_type": "code",
   "execution_count": 56,
   "metadata": {},
   "outputs": [
    {
     "name": "stdout",
     "output_type": "stream",
     "text": [
      "log model rsquared =  0.7448003804081643\n",
      "linear model rsquared converted =  0.6778336692595957\n"
     ]
    }
   ],
   "source": [
    "yi = df['lnY'] - np.mean(df['lnY'])\n",
    "ye = df['lnYe'] - np.mean(df['lnY'])\n",
    "numerator = np.sum(yi*ye)**2\n",
    "denominator = np.sum(yi**2)*np.sum(ye**2)\n",
    "rsquared = numerator/denominator\n",
    "print('log model rsquared = ' , model2.rsquared)\n",
    "print('linear model rsquared converted = ', rsquared)"
   ]
  },
  {
   "cell_type": "markdown",
   "metadata": {},
   "source": [
    "### Conclusion: Comparing the two values it seems that log model is a better fit"
   ]
  },
  {
   "cell_type": "markdown",
   "metadata": {},
   "source": [
    "# Why does \"ESS/TSS\" give different results than eq. 3.5.15?"
   ]
  },
  {
   "cell_type": "code",
   "execution_count": 53,
   "metadata": {},
   "outputs": [
    {
     "name": "stdout",
     "output_type": "stream",
     "text": [
      "eq 3.5.14 :  0.6778336692595957\n",
      "ESS/TSS:  0.7435600886138566\n"
     ]
    }
   ],
   "source": [
    "# ess_ = (df['lnYe'] - np.mean(df['lnY']))**2\n",
    "# ess = np.sum(ess_)\n",
    "# tss = (df['lnY'] - np.mean(df['lnY']))**2\n",
    "# tss = np.sum(tss)\n",
    "# rsquared = ess/tss\n",
    "# rsquared\n",
    "yi = df['lnY'] - np.mean(df['lnY'])\n",
    "ye = df['lnYe'] - np.mean(df['lnY'])\n",
    "numerator = np.sum(yi*ye)**2\n",
    "denominator = np.sum(yi**2)*np.sum(ye**2)\n",
    "rsquared = numerator/denominator\n",
    "print('eq 3.5.14 : ', rsquared)\n",
    "rsquared2 = np.sum(ye**2)/np.sum(yi**2)\n",
    "print('ESS/TSS: ', rsquared2)"
   ]
  },
  {
   "cell_type": "code",
   "execution_count": 45,
   "metadata": {},
   "outputs": [
    {
     "name": "stdout",
     "output_type": "stream",
     "text": [
      "0.6627571891783129\n"
     ]
    },
    {
     "data": {
      "text/plain": [
       "0.6627571891783139"
      ]
     },
     "execution_count": 45,
     "metadata": {},
     "output_type": "execute_result"
    }
   ],
   "source": [
    "yi = df['Y'] - np.mean(df['Y'])\n",
    "ye = df['Ye'] - np.mean(df['Y'])\n",
    "numerator = np.sum(yi*ye)**2\n",
    "denominator = np.sum(yi**2)*np.sum(ye**2)\n",
    "rsquared = numerator/denominator\n",
    "print(rsquared)\n",
    "rsquared2 = np.sum(ye**2)/np.sum(yi**2)\n",
    "rsquared2"
   ]
  },
  {
   "cell_type": "code",
   "execution_count": 50,
   "metadata": {
    "scrolled": true
   },
   "outputs": [
    {
     "data": {
      "text/plain": [
       "[<matplotlib.lines.Line2D at 0x1491d640>]"
      ]
     },
     "execution_count": 50,
     "metadata": {},
     "output_type": "execute_result"
    },
    {
     "data": {
      "image/png": "[encoded data removed]",
      "text/plain": [
       "<Figure size 432x288 with 1 Axes>"
      ]
     },
     "metadata": {
      "needs_background": "light"
     },
     "output_type": "display_data"
    }
   ],
   "source": [
    "# fig, ((ax1,ax2,ax3), (ax4,ax5,ax6), (ax7,ax8,ax9)) = plt.subplots(3, 3)\n",
    "plt.figure()\n",
    "plt.scatter(df['lnX'],df['lnY'])\n",
    "plt.plot(df['lnX'], df['lnYe'])"
   ]
  },
  {
   "cell_type": "markdown",
   "metadata": {},
   "source": [
    "### Ans. ln(Ye) is not a straight line. infact it bends backwards"
   ]
  }
 ],
 "metadata": {
  "kernelspec": {
   "display_name": "Python 3",
   "language": "python",
   "name": "python3"
  },
  "language_info": {
   "codemirror_mode": {
    "name": "ipython",
    "version": 3
   },
   "file_extension": ".py",
   "mimetype": "text/x-python",
   "name": "python",
   "nbconvert_exporter": "python",
   "pygments_lexer": "ipython3",
   "version": "3.8.2"
  }
 },
 "nbformat": 4,
 "nbformat_minor": 4
}
